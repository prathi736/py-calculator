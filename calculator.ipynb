{
 "cells": [
  {
   "cell_type": "markdown",
   "metadata": {},
   "source": [
    "# Python Calculator"
   ]
  },
  {
   "cell_type": "code",
   "execution_count": 1,
   "metadata": {},
   "outputs": [
    {
     "name": "stdout",
     "output_type": "stream",
     "text": [
      "Enter Num1: 2\n",
      "Enter Num2: 3\n",
      "\n",
      "Choose any one operation:- \n",
      "Addition: Press 1 \n",
      "Subtraction: Press 2 \n",
      "Multiplication: Press 3 \n",
      "Division: Press 4\n",
      "Choose any number between 1-4: 3\n",
      "Multiplication will be:  6.0\n"
     ]
    }
   ],
   "source": [
    "num1 = float(input(\"Enter Num1: \"))\n",
    "num2 = float(input(\"Enter Num2: \"))\n",
    "\n",
    "print(\"\\nChoose any one operation:- \\nAddition: Press 1 \\nSubtraction: Press 2 \\nMultiplication: Press 3 \\nDivision: Press 4\")\n",
    "choose_operation = int(input(\"Choose any number between 1-4: \"))\n",
    "\n",
    "match choose_operation:\n",
    "    case 1:\n",
    "        print(\"Addition will be: \", num1+num2)\n",
    "    case 2:\n",
    "        print(\"Subtraction will be: \", num1-num2)\n",
    "    case 3:\n",
    "        print(\"Multiplication will be: \", num1*num2)\n",
    "    case 4: \n",
    "        print(\"Division will be: \", num1/num2)\n",
    "    case 5:\n",
    "        print(\"Invalid Input\")"
   ]
  },
  {
   "cell_type": "code",
   "execution_count": null,
   "metadata": {},
   "outputs": [],
   "source": []
  }
 ],
 "metadata": {
  "kernelspec": {
   "display_name": "Python 3 (ipykernel)",
   "language": "python",
   "name": "python3"
  },
  "language_info": {
   "codemirror_mode": {
    "name": "ipython",
    "version": 3
   },
   "file_extension": ".py",
   "mimetype": "text/x-python",
   "name": "python",
   "nbconvert_exporter": "python",
   "pygments_lexer": "ipython3",
   "version": "3.10.5"
  }
 },
 "nbformat": 4,
 "nbformat_minor": 2
}
